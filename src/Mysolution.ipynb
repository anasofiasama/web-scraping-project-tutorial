{
 "cells": [
  {
   "cell_type": "code",
   "execution_count": 59,
   "metadata": {},
   "outputs": [],
   "source": [
    "import pandas as pd\n",
    "import numpy as np\n",
    "import matplotlib.pyplot as plt"
   ]
  },
  {
   "cell_type": "code",
   "execution_count": 4,
   "metadata": {},
   "outputs": [],
   "source": [
    "html_data='https://www.macrotrends.net/stocks/charts/TSLA/tesla/revenue'\n",
    "pag=requests.get(html_data)\n",
    "print(pag) # Prints 200 so it is ok."
   ]
  },
  {
   "cell_type": "code",
   "execution_count": 6,
   "metadata": {},
   "outputs": [],
   "source": [
    "pag_texto=pag.text"
   ]
  },
  {
   "cell_type": "code",
   "execution_count": 7,
   "metadata": {},
   "outputs": [],
   "source": [
    "from bs4 import BeautifulSoup"
   ]
  },
  {
   "cell_type": "code",
   "execution_count": 8,
   "metadata": {},
   "outputs": [],
   "source": [
    "text_beau=BeautifulSoup(pag_texto,'html.parser')"
   ]
  },
  {
   "cell_type": "code",
   "execution_count": 9,
   "metadata": {},
   "outputs": [
    {
     "name": "stdout",
     "output_type": "stream",
     "text": [
      "6\n"
     ]
    }
   ],
   "source": [
    "tablas=text_beau.findAll('table')\n",
    "print(len(tablas))"
   ]
  },
  {
   "cell_type": "code",
   "execution_count": 10,
   "metadata": {},
   "outputs": [
    {
     "data": {
      "text/plain": [
       "[(1,\n",
       "  <table class=\"historical_data_table table\">\n",
       "  <thead>\n",
       "  <tr>\n",
       "  <th colspan=\"2\" style=\"text-align:center\">Tesla Quarterly Revenue<br/><span style=\"font-size:14px;\">(Millions of US $)</span></th>\n",
       "  </tr>\n",
       "  </thead>\n",
       "  <tbody>\n",
       "  <tr>\n",
       "  <td style=\"text-align:center\">2022-03-31</td>\n",
       "  <td style=\"text-align:center\">$18,756</td>\n",
       "  </tr>\n",
       "  <tr>\n",
       "  <td style=\"text-align:center\">2021-12-31</td>\n",
       "  <td style=\"text-align:center\">$17,719</td>\n",
       "  </tr>\n",
       "  <tr>\n",
       "  <td style=\"text-align:center\">2021-09-30</td>\n",
       "  <td style=\"text-align:center\">$13,757</td>\n",
       "  </tr>\n",
       "  <tr>\n",
       "  <td style=\"text-align:center\">2021-06-30</td>\n",
       "  <td style=\"text-align:center\">$11,958</td>\n",
       "  </tr>\n",
       "  <tr>\n",
       "  <td style=\"text-align:center\">2021-03-31</td>\n",
       "  <td style=\"text-align:center\">$10,389</td>\n",
       "  </tr>\n",
       "  <tr>\n",
       "  <td style=\"text-align:center\">2020-12-31</td>\n",
       "  <td style=\"text-align:center\">$10,744</td>\n",
       "  </tr>\n",
       "  <tr>\n",
       "  <td style=\"text-align:center\">2020-09-30</td>\n",
       "  <td style=\"text-align:center\">$8,771</td>\n",
       "  </tr>\n",
       "  <tr>\n",
       "  <td style=\"text-align:center\">2020-06-30</td>\n",
       "  <td style=\"text-align:center\">$6,036</td>\n",
       "  </tr>\n",
       "  <tr>\n",
       "  <td style=\"text-align:center\">2020-03-31</td>\n",
       "  <td style=\"text-align:center\">$5,985</td>\n",
       "  </tr>\n",
       "  <tr>\n",
       "  <td style=\"text-align:center\">2019-12-31</td>\n",
       "  <td style=\"text-align:center\">$7,384</td>\n",
       "  </tr>\n",
       "  <tr>\n",
       "  <td style=\"text-align:center\">2019-09-30</td>\n",
       "  <td style=\"text-align:center\">$6,303</td>\n",
       "  </tr>\n",
       "  <tr>\n",
       "  <td style=\"text-align:center\">2019-06-30</td>\n",
       "  <td style=\"text-align:center\">$6,350</td>\n",
       "  </tr>\n",
       "  <tr>\n",
       "  <td style=\"text-align:center\">2019-03-31</td>\n",
       "  <td style=\"text-align:center\">$4,541</td>\n",
       "  </tr>\n",
       "  <tr>\n",
       "  <td style=\"text-align:center\">2018-12-31</td>\n",
       "  <td style=\"text-align:center\">$7,226</td>\n",
       "  </tr>\n",
       "  <tr>\n",
       "  <td style=\"text-align:center\">2018-09-30</td>\n",
       "  <td style=\"text-align:center\">$6,824</td>\n",
       "  </tr>\n",
       "  <tr>\n",
       "  <td style=\"text-align:center\">2018-06-30</td>\n",
       "  <td style=\"text-align:center\">$4,002</td>\n",
       "  </tr>\n",
       "  <tr>\n",
       "  <td style=\"text-align:center\">2018-03-31</td>\n",
       "  <td style=\"text-align:center\">$3,409</td>\n",
       "  </tr>\n",
       "  <tr>\n",
       "  <td style=\"text-align:center\">2017-12-31</td>\n",
       "  <td style=\"text-align:center\">$3,288</td>\n",
       "  </tr>\n",
       "  <tr>\n",
       "  <td style=\"text-align:center\">2017-09-30</td>\n",
       "  <td style=\"text-align:center\">$2,985</td>\n",
       "  </tr>\n",
       "  <tr>\n",
       "  <td style=\"text-align:center\">2017-06-30</td>\n",
       "  <td style=\"text-align:center\">$2,790</td>\n",
       "  </tr>\n",
       "  <tr>\n",
       "  <td style=\"text-align:center\">2017-03-31</td>\n",
       "  <td style=\"text-align:center\">$2,696</td>\n",
       "  </tr>\n",
       "  <tr>\n",
       "  <td style=\"text-align:center\">2016-12-31</td>\n",
       "  <td style=\"text-align:center\">$2,285</td>\n",
       "  </tr>\n",
       "  <tr>\n",
       "  <td style=\"text-align:center\">2016-09-30</td>\n",
       "  <td style=\"text-align:center\">$2,298</td>\n",
       "  </tr>\n",
       "  <tr>\n",
       "  <td style=\"text-align:center\">2016-06-30</td>\n",
       "  <td style=\"text-align:center\">$1,270</td>\n",
       "  </tr>\n",
       "  <tr>\n",
       "  <td style=\"text-align:center\">2016-03-31</td>\n",
       "  <td style=\"text-align:center\">$1,147</td>\n",
       "  </tr>\n",
       "  <tr>\n",
       "  <td style=\"text-align:center\">2015-12-31</td>\n",
       "  <td style=\"text-align:center\">$1,214</td>\n",
       "  </tr>\n",
       "  <tr>\n",
       "  <td style=\"text-align:center\">2015-09-30</td>\n",
       "  <td style=\"text-align:center\">$937</td>\n",
       "  </tr>\n",
       "  <tr>\n",
       "  <td style=\"text-align:center\">2015-06-30</td>\n",
       "  <td style=\"text-align:center\">$955</td>\n",
       "  </tr>\n",
       "  <tr>\n",
       "  <td style=\"text-align:center\">2015-03-31</td>\n",
       "  <td style=\"text-align:center\">$940</td>\n",
       "  </tr>\n",
       "  <tr>\n",
       "  <td style=\"text-align:center\">2014-12-31</td>\n",
       "  <td style=\"text-align:center\">$957</td>\n",
       "  </tr>\n",
       "  <tr>\n",
       "  <td style=\"text-align:center\">2014-09-30</td>\n",
       "  <td style=\"text-align:center\">$852</td>\n",
       "  </tr>\n",
       "  <tr>\n",
       "  <td style=\"text-align:center\">2014-06-30</td>\n",
       "  <td style=\"text-align:center\">$769</td>\n",
       "  </tr>\n",
       "  <tr>\n",
       "  <td style=\"text-align:center\">2014-03-31</td>\n",
       "  <td style=\"text-align:center\">$621</td>\n",
       "  </tr>\n",
       "  <tr>\n",
       "  <td style=\"text-align:center\">2013-12-31</td>\n",
       "  <td style=\"text-align:center\">$615</td>\n",
       "  </tr>\n",
       "  <tr>\n",
       "  <td style=\"text-align:center\">2013-09-30</td>\n",
       "  <td style=\"text-align:center\">$431</td>\n",
       "  </tr>\n",
       "  <tr>\n",
       "  <td style=\"text-align:center\">2013-06-30</td>\n",
       "  <td style=\"text-align:center\">$405</td>\n",
       "  </tr>\n",
       "  <tr>\n",
       "  <td style=\"text-align:center\">2013-03-31</td>\n",
       "  <td style=\"text-align:center\">$562</td>\n",
       "  </tr>\n",
       "  <tr>\n",
       "  <td style=\"text-align:center\">2012-12-31</td>\n",
       "  <td style=\"text-align:center\">$306</td>\n",
       "  </tr>\n",
       "  <tr>\n",
       "  <td style=\"text-align:center\">2012-09-30</td>\n",
       "  <td style=\"text-align:center\">$50</td>\n",
       "  </tr>\n",
       "  <tr>\n",
       "  <td style=\"text-align:center\">2012-06-30</td>\n",
       "  <td style=\"text-align:center\">$27</td>\n",
       "  </tr>\n",
       "  <tr>\n",
       "  <td style=\"text-align:center\">2012-03-31</td>\n",
       "  <td style=\"text-align:center\">$30</td>\n",
       "  </tr>\n",
       "  <tr>\n",
       "  <td style=\"text-align:center\">2011-12-31</td>\n",
       "  <td style=\"text-align:center\">$39</td>\n",
       "  </tr>\n",
       "  <tr>\n",
       "  <td style=\"text-align:center\">2011-09-30</td>\n",
       "  <td style=\"text-align:center\">$58</td>\n",
       "  </tr>\n",
       "  <tr>\n",
       "  <td style=\"text-align:center\">2011-06-30</td>\n",
       "  <td style=\"text-align:center\">$58</td>\n",
       "  </tr>\n",
       "  <tr>\n",
       "  <td style=\"text-align:center\">2011-03-31</td>\n",
       "  <td style=\"text-align:center\">$49</td>\n",
       "  </tr>\n",
       "  <tr>\n",
       "  <td style=\"text-align:center\">2010-12-31</td>\n",
       "  <td style=\"text-align:center\">$36</td>\n",
       "  </tr>\n",
       "  <tr>\n",
       "  <td style=\"text-align:center\">2010-09-30</td>\n",
       "  <td style=\"text-align:center\">$31</td>\n",
       "  </tr>\n",
       "  <tr>\n",
       "  <td style=\"text-align:center\">2010-06-30</td>\n",
       "  <td style=\"text-align:center\">$28</td>\n",
       "  </tr>\n",
       "  <tr>\n",
       "  <td style=\"text-align:center\">2010-03-31</td>\n",
       "  <td style=\"text-align:center\">$21</td>\n",
       "  </tr>\n",
       "  <tr>\n",
       "  <td style=\"text-align:center\">2009-12-31</td>\n",
       "  <td style=\"text-align:center\"></td>\n",
       "  </tr>\n",
       "  <tr>\n",
       "  <td style=\"text-align:center\">2009-09-30</td>\n",
       "  <td style=\"text-align:center\">$46</td>\n",
       "  </tr>\n",
       "  <tr>\n",
       "  <td style=\"text-align:center\">2009-06-30</td>\n",
       "  <td style=\"text-align:center\">$27</td>\n",
       "  </tr>\n",
       "  </tbody>\n",
       "  </table>)]"
      ]
     },
     "execution_count": 10,
     "metadata": {},
     "output_type": "execute_result"
    }
   ],
   "source": [
    "[(i,v) for i,v in enumerate(list(tablas)) if \"Tesla Quarterly Revenue\" in v.text]"
   ]
  },
  {
   "cell_type": "markdown",
   "metadata": {},
   "source": [
    "La tabla \"Tesla Quarterly Revenue\" corresponde al elemento 1 de la lista de tablas"
   ]
  },
  {
   "cell_type": "code",
   "execution_count": 11,
   "metadata": {},
   "outputs": [],
   "source": [
    "tab_rev=[v for v in list(tablas) if \"Tesla Quarterly Revenue\" in v.text][0]"
   ]
  },
  {
   "cell_type": "code",
   "execution_count": 12,
   "metadata": {},
   "outputs": [],
   "source": [
    "tr_rev=tab_rev.findAll('tr')"
   ]
  },
  {
   "cell_type": "code",
   "execution_count": 13,
   "metadata": {},
   "outputs": [
    {
     "name": "stdout",
     "output_type": "stream",
     "text": [
      "[<td style=\"text-align:center\">2022-03-31</td>, <td style=\"text-align:center\">$18,756</td>, <td style=\"text-align:center\">2021-12-31</td>, <td style=\"text-align:center\">$17,719</td>, <td style=\"text-align:center\">2021-09-30</td>, <td style=\"text-align:center\">$13,757</td>, <td style=\"text-align:center\">2021-06-30</td>, <td style=\"text-align:center\">$11,958</td>, <td style=\"text-align:center\">2021-03-31</td>, <td style=\"text-align:center\">$10,389</td>, <td style=\"text-align:center\">2020-12-31</td>, <td style=\"text-align:center\">$10,744</td>, <td style=\"text-align:center\">2020-09-30</td>, <td style=\"text-align:center\">$8,771</td>, <td style=\"text-align:center\">2020-06-30</td>, <td style=\"text-align:center\">$6,036</td>, <td style=\"text-align:center\">2020-03-31</td>, <td style=\"text-align:center\">$5,985</td>, <td style=\"text-align:center\">2019-12-31</td>, <td style=\"text-align:center\">$7,384</td>, <td style=\"text-align:center\">2019-09-30</td>, <td style=\"text-align:center\">$6,303</td>, <td style=\"text-align:center\">2019-06-30</td>, <td style=\"text-align:center\">$6,350</td>, <td style=\"text-align:center\">2019-03-31</td>, <td style=\"text-align:center\">$4,541</td>, <td style=\"text-align:center\">2018-12-31</td>, <td style=\"text-align:center\">$7,226</td>, <td style=\"text-align:center\">2018-09-30</td>, <td style=\"text-align:center\">$6,824</td>, <td style=\"text-align:center\">2018-06-30</td>, <td style=\"text-align:center\">$4,002</td>, <td style=\"text-align:center\">2018-03-31</td>, <td style=\"text-align:center\">$3,409</td>, <td style=\"text-align:center\">2017-12-31</td>, <td style=\"text-align:center\">$3,288</td>, <td style=\"text-align:center\">2017-09-30</td>, <td style=\"text-align:center\">$2,985</td>, <td style=\"text-align:center\">2017-06-30</td>, <td style=\"text-align:center\">$2,790</td>, <td style=\"text-align:center\">2017-03-31</td>, <td style=\"text-align:center\">$2,696</td>, <td style=\"text-align:center\">2016-12-31</td>, <td style=\"text-align:center\">$2,285</td>, <td style=\"text-align:center\">2016-09-30</td>, <td style=\"text-align:center\">$2,298</td>, <td style=\"text-align:center\">2016-06-30</td>, <td style=\"text-align:center\">$1,270</td>, <td style=\"text-align:center\">2016-03-31</td>, <td style=\"text-align:center\">$1,147</td>, <td style=\"text-align:center\">2015-12-31</td>, <td style=\"text-align:center\">$1,214</td>, <td style=\"text-align:center\">2015-09-30</td>, <td style=\"text-align:center\">$937</td>, <td style=\"text-align:center\">2015-06-30</td>, <td style=\"text-align:center\">$955</td>, <td style=\"text-align:center\">2015-03-31</td>, <td style=\"text-align:center\">$940</td>, <td style=\"text-align:center\">2014-12-31</td>, <td style=\"text-align:center\">$957</td>, <td style=\"text-align:center\">2014-09-30</td>, <td style=\"text-align:center\">$852</td>, <td style=\"text-align:center\">2014-06-30</td>, <td style=\"text-align:center\">$769</td>, <td style=\"text-align:center\">2014-03-31</td>, <td style=\"text-align:center\">$621</td>, <td style=\"text-align:center\">2013-12-31</td>, <td style=\"text-align:center\">$615</td>, <td style=\"text-align:center\">2013-09-30</td>, <td style=\"text-align:center\">$431</td>, <td style=\"text-align:center\">2013-06-30</td>, <td style=\"text-align:center\">$405</td>, <td style=\"text-align:center\">2013-03-31</td>, <td style=\"text-align:center\">$562</td>, <td style=\"text-align:center\">2012-12-31</td>, <td style=\"text-align:center\">$306</td>, <td style=\"text-align:center\">2012-09-30</td>, <td style=\"text-align:center\">$50</td>, <td style=\"text-align:center\">2012-06-30</td>, <td style=\"text-align:center\">$27</td>, <td style=\"text-align:center\">2012-03-31</td>, <td style=\"text-align:center\">$30</td>, <td style=\"text-align:center\">2011-12-31</td>, <td style=\"text-align:center\">$39</td>, <td style=\"text-align:center\">2011-09-30</td>, <td style=\"text-align:center\">$58</td>, <td style=\"text-align:center\">2011-06-30</td>, <td style=\"text-align:center\">$58</td>, <td style=\"text-align:center\">2011-03-31</td>, <td style=\"text-align:center\">$49</td>, <td style=\"text-align:center\">2010-12-31</td>, <td style=\"text-align:center\">$36</td>, <td style=\"text-align:center\">2010-09-30</td>, <td style=\"text-align:center\">$31</td>, <td style=\"text-align:center\">2010-06-30</td>, <td style=\"text-align:center\">$28</td>, <td style=\"text-align:center\">2010-03-31</td>, <td style=\"text-align:center\">$21</td>, <td style=\"text-align:center\">2009-12-31</td>, <td style=\"text-align:center\"></td>, <td style=\"text-align:center\">2009-09-30</td>, <td style=\"text-align:center\">$46</td>, <td style=\"text-align:center\">2009-06-30</td>, <td style=\"text-align:center\">$27</td>]\n"
     ]
    }
   ],
   "source": [
    "td_rev=tab_rev.findAll('td')\n",
    "print(td_rev)\n"
   ]
  },
  {
   "cell_type": "code",
   "execution_count": 14,
   "metadata": {},
   "outputs": [],
   "source": [
    "list_td=[v.findAll('td') for i,v in enumerate(tr_rev)][1:]"
   ]
  },
  {
   "cell_type": "code",
   "execution_count": 38,
   "metadata": {},
   "outputs": [],
   "source": [
    "# lista con datos de la tabla, filtrando aquellos que estan vacios\n",
    "\n",
    "list_data=[(v[0].text,v[1].text.replace('$','').replace(',','')) for i,v in enumerate(list_td) if (v[1].text is not str()) & (v[0].text is not str())]"
   ]
  },
  {
   "cell_type": "code",
   "execution_count": 39,
   "metadata": {},
   "outputs": [],
   "source": [
    "df_tesla=pd.DataFrame(list_data, columns=['Date','Revenue'])"
   ]
  },
  {
   "cell_type": "code",
   "execution_count": 41,
   "metadata": {},
   "outputs": [
    {
     "name": "stdout",
     "output_type": "stream",
     "text": [
      "          Date Revenue\n",
      "0   2022-03-31   18756\n",
      "1   2021-12-31   17719\n",
      "2   2021-09-30   13757\n",
      "3   2021-06-30   11958\n",
      "4   2021-03-31   10389\n",
      "5   2020-12-31   10744\n",
      "6   2020-09-30    8771\n",
      "7   2020-06-30    6036\n",
      "8   2020-03-31    5985\n",
      "9   2019-12-31    7384\n",
      "10  2019-09-30    6303\n",
      "11  2019-06-30    6350\n",
      "12  2019-03-31    4541\n",
      "13  2018-12-31    7226\n",
      "14  2018-09-30    6824\n",
      "15  2018-06-30    4002\n",
      "16  2018-03-31    3409\n",
      "17  2017-12-31    3288\n",
      "18  2017-09-30    2985\n",
      "19  2017-06-30    2790\n",
      "20  2017-03-31    2696\n",
      "21  2016-12-31    2285\n",
      "22  2016-09-30    2298\n",
      "23  2016-06-30    1270\n",
      "24  2016-03-31    1147\n",
      "25  2015-12-31    1214\n",
      "26  2015-09-30     937\n",
      "27  2015-06-30     955\n",
      "28  2015-03-31     940\n",
      "29  2014-12-31     957\n",
      "30  2014-09-30     852\n",
      "31  2014-06-30     769\n",
      "32  2014-03-31     621\n",
      "33  2013-12-31     615\n",
      "34  2013-09-30     431\n",
      "35  2013-06-30     405\n",
      "36  2013-03-31     562\n",
      "37  2012-12-31     306\n",
      "38  2012-09-30      50\n",
      "39  2012-06-30      27\n",
      "40  2012-03-31      30\n",
      "41  2011-12-31      39\n",
      "42  2011-09-30      58\n",
      "43  2011-06-30      58\n",
      "44  2011-03-31      49\n",
      "45  2010-12-31      36\n",
      "46  2010-09-30      31\n",
      "47  2010-06-30      28\n",
      "48  2010-03-31      21\n",
      "49  2009-09-30      46\n",
      "50  2009-06-30      27\n"
     ]
    }
   ],
   "source": [
    "print(df_tesla)"
   ]
  },
  {
   "cell_type": "code",
   "execution_count": 43,
   "metadata": {},
   "outputs": [
    {
     "data": {
      "text/plain": [
       "pandas.core.frame.DataFrame"
      ]
     },
     "execution_count": 43,
     "metadata": {},
     "output_type": "execute_result"
    }
   ],
   "source": [
    "type(df_tesla)"
   ]
  },
  {
   "cell_type": "markdown",
   "metadata": {},
   "source": [
    "#### Insert the data into sqlite3"
   ]
  },
  {
   "cell_type": "code",
   "execution_count": 42,
   "metadata": {},
   "outputs": [],
   "source": [
    "import sqlite3"
   ]
  },
  {
   "cell_type": "code",
   "execution_count": 45,
   "metadata": {},
   "outputs": [
    {
     "data": {
      "text/plain": [
       "[('2022-03-31', '18756'),\n",
       " ('2021-12-31', '17719'),\n",
       " ('2021-09-30', '13757'),\n",
       " ('2021-06-30', '11958'),\n",
       " ('2021-03-31', '10389'),\n",
       " ('2020-12-31', '10744'),\n",
       " ('2020-09-30', '8771'),\n",
       " ('2020-06-30', '6036'),\n",
       " ('2020-03-31', '5985'),\n",
       " ('2019-12-31', '7384'),\n",
       " ('2019-09-30', '6303'),\n",
       " ('2019-06-30', '6350'),\n",
       " ('2019-03-31', '4541'),\n",
       " ('2018-12-31', '7226'),\n",
       " ('2018-09-30', '6824'),\n",
       " ('2018-06-30', '4002'),\n",
       " ('2018-03-31', '3409'),\n",
       " ('2017-12-31', '3288'),\n",
       " ('2017-09-30', '2985'),\n",
       " ('2017-06-30', '2790'),\n",
       " ('2017-03-31', '2696'),\n",
       " ('2016-12-31', '2285'),\n",
       " ('2016-09-30', '2298'),\n",
       " ('2016-06-30', '1270'),\n",
       " ('2016-03-31', '1147'),\n",
       " ('2015-12-31', '1214'),\n",
       " ('2015-09-30', '937'),\n",
       " ('2015-06-30', '955'),\n",
       " ('2015-03-31', '940'),\n",
       " ('2014-12-31', '957'),\n",
       " ('2014-09-30', '852'),\n",
       " ('2014-06-30', '769'),\n",
       " ('2014-03-31', '621'),\n",
       " ('2013-12-31', '615'),\n",
       " ('2013-09-30', '431'),\n",
       " ('2013-06-30', '405'),\n",
       " ('2013-03-31', '562'),\n",
       " ('2012-12-31', '306'),\n",
       " ('2012-09-30', '50'),\n",
       " ('2012-06-30', '27'),\n",
       " ('2012-03-31', '30'),\n",
       " ('2011-12-31', '39'),\n",
       " ('2011-09-30', '58'),\n",
       " ('2011-06-30', '58'),\n",
       " ('2011-03-31', '49'),\n",
       " ('2010-12-31', '36'),\n",
       " ('2010-09-30', '31'),\n",
       " ('2010-06-30', '28'),\n",
       " ('2010-03-31', '21'),\n",
       " ('2009-09-30', '46'),\n",
       " ('2009-06-30', '27')]"
      ]
     },
     "execution_count": 45,
     "metadata": {},
     "output_type": "execute_result"
    }
   ],
   "source": [
    "records = df_tesla.to_records(index=False)\n",
    "tuples_rec = list(records)\n",
    "tuples_rec"
   ]
  },
  {
   "cell_type": "markdown",
   "metadata": {},
   "source": [
    "## Connect to SQLite"
   ]
  },
  {
   "cell_type": "code",
   "execution_count": 47,
   "metadata": {},
   "outputs": [],
   "source": [
    "# Conect a connection object\n",
    "\n",
    "conn=sqlite3.connect('Tesla.db')"
   ]
  },
  {
   "cell_type": "code",
   "execution_count": 48,
   "metadata": {},
   "outputs": [],
   "source": [
    "# Create a cursor\n",
    "cur = conn.cursor()\n",
    "\n",
    "# Create table\n",
    "cur.execute('''CREATE TABLE revenue\n",
    "(Date, Revenue)''')\n",
    "\n",
    "# Insert the values\n",
    "cur.executemany('INSERT INTO revenue VALUES (?,?)', tuples_rec)\n",
    "\n",
    "# Save (commit) the changes\n",
    "conn.commit()"
   ]
  },
  {
   "cell_type": "markdown",
   "metadata": {},
   "source": [
    "#### Retrive information from the db"
   ]
  },
  {
   "cell_type": "code",
   "execution_count": 55,
   "metadata": {},
   "outputs": [],
   "source": [
    "#revenue=cur.execute('SELECT * FROM revenue')\n",
    "df_revenue=pd.read_sql('SELECT * FROM revenue',conn)"
   ]
  },
  {
   "cell_type": "code",
   "execution_count": 56,
   "metadata": {},
   "outputs": [
    {
     "name": "stdout",
     "output_type": "stream",
     "text": [
      "          Date Revenue\n",
      "0   2022-03-31   18756\n",
      "1   2021-12-31   17719\n",
      "2   2021-09-30   13757\n",
      "3   2021-06-30   11958\n",
      "4   2021-03-31   10389\n",
      "5   2020-12-31   10744\n",
      "6   2020-09-30    8771\n",
      "7   2020-06-30    6036\n",
      "8   2020-03-31    5985\n",
      "9   2019-12-31    7384\n",
      "10  2019-09-30    6303\n",
      "11  2019-06-30    6350\n",
      "12  2019-03-31    4541\n",
      "13  2018-12-31    7226\n",
      "14  2018-09-30    6824\n",
      "15  2018-06-30    4002\n",
      "16  2018-03-31    3409\n",
      "17  2017-12-31    3288\n",
      "18  2017-09-30    2985\n",
      "19  2017-06-30    2790\n",
      "20  2017-03-31    2696\n",
      "21  2016-12-31    2285\n",
      "22  2016-09-30    2298\n",
      "23  2016-06-30    1270\n",
      "24  2016-03-31    1147\n",
      "25  2015-12-31    1214\n",
      "26  2015-09-30     937\n",
      "27  2015-06-30     955\n",
      "28  2015-03-31     940\n",
      "29  2014-12-31     957\n",
      "30  2014-09-30     852\n",
      "31  2014-06-30     769\n",
      "32  2014-03-31     621\n",
      "33  2013-12-31     615\n",
      "34  2013-09-30     431\n",
      "35  2013-06-30     405\n",
      "36  2013-03-31     562\n",
      "37  2012-12-31     306\n",
      "38  2012-09-30      50\n",
      "39  2012-06-30      27\n",
      "40  2012-03-31      30\n",
      "41  2011-12-31      39\n",
      "42  2011-09-30      58\n",
      "43  2011-06-30      58\n",
      "44  2011-03-31      49\n",
      "45  2010-12-31      36\n",
      "46  2010-09-30      31\n",
      "47  2010-06-30      28\n",
      "48  2010-03-31      21\n",
      "49  2009-09-30      46\n",
      "50  2009-06-30      27\n"
     ]
    }
   ],
   "source": [
    "print(df_revenue)"
   ]
  },
  {
   "cell_type": "markdown",
   "metadata": {},
   "source": [
    "#### Plot"
   ]
  },
  {
   "cell_type": "code",
   "execution_count": 65,
   "metadata": {},
   "outputs": [],
   "source": [
    "df_revenue['Revenue']=df_revenue['Revenue'].astype('float64')\n",
    "df_revenue['Date']=pd.to_datetime(df_revenue['Date'])"
   ]
  },
  {
   "cell_type": "code",
   "execution_count": 66,
   "metadata": {},
   "outputs": [
    {
     "data": {
      "text/plain": [
       "Date       datetime64[ns]\n",
       "Revenue           float64\n",
       "dtype: object"
      ]
     },
     "execution_count": 66,
     "metadata": {},
     "output_type": "execute_result"
    }
   ],
   "source": [
    "df_revenue.dtypes"
   ]
  },
  {
   "cell_type": "code",
   "execution_count": 70,
   "metadata": {},
   "outputs": [
    {
     "data": {
      "image/png": "[encoded data removed]",
      "text/plain": [
       "<Figure size 432x288 with 1 Axes>"
      ]
     },
     "metadata": {
      "needs_background": "light"
     },
     "output_type": "display_data"
    }
   ],
   "source": [
    "df_revenue.plot('Date','Revenue')\n",
    "plt.title('Revenue evolution')\n",
    "plt.xlabel('Date')\n",
    "plt.show()"
   ]
  }
 ],
 "metadata": {
  "kernelspec": {
   "display_name": "Python 3.8.13 64-bit ('3.8.13')",
   "language": "python",
   "name": "python3"
  },
  "language_info": {
   "codemirror_mode": {
    "name": "ipython",
    "version": 3
   },
   "file_extension": ".py",
   "mimetype": "text/x-python",
   "name": "python",
   "nbconvert_exporter": "python",
   "pygments_lexer": "ipython3",
   "version": "3.8.13"
  },
  "orig_nbformat": 4,
  "vscode": {
   "interpreter": {
    "hash": "110cc1dee26208153f2972f08a2ad52b6a56238dc66d48e87fb757ef2996db56"
   }
  }
 },
 "nbformat": 4,
 "nbformat_minor": 2
}
